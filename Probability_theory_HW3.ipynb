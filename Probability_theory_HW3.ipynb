{
 "cells": [
  {
   "cell_type": "markdown",
   "id": "ee26bbd1",
   "metadata": {},
   "source": [
    "## Задача1"
   ]
  },
  {
   "cell_type": "markdown",
   "id": "894fee04",
   "metadata": {},
   "source": [
    "Даны значения зарплат из выборки выпускников: 100, 80, 75, 77, 89, 33, 45, 25, 65, 17, 30, 24, 57, 55, 70, 75, 65, 84, 90, 150. Посчитать (желательно без использования статистических методов наподобие std, var, mean) среднее арифметическое, среднее квадратичное отклонение, смещенную и несмещенную оценки дисперсий для данной выборки."
   ]
  },
  {
   "cell_type": "code",
   "execution_count": 2,
   "id": "7c4d1192",
   "metadata": {},
   "outputs": [],
   "source": [
    "import numpy as np"
   ]
  },
  {
   "cell_type": "code",
   "execution_count": 4,
   "id": "48eb9e91",
   "metadata": {},
   "outputs": [],
   "source": [
    "salary = np.array([100, 80, 75, 77, 89, 33, 45, 25, 65, 17, 30, 24, 57, 55, 70, 75, 65, 84, 90, 150])"
   ]
  },
  {
   "cell_type": "code",
   "execution_count": 7,
   "id": "cccb85e8",
   "metadata": {},
   "outputs": [
    {
     "name": "stdout",
     "output_type": "stream",
     "text": [
      "Cреднее арифметтическое зарплат = 65.3\n"
     ]
    }
   ],
   "source": [
    "mean = salary.sum()/len(salary)\n",
    "print(f'Cреднее арифметтическое зарплат = {mean}')"
   ]
  },
  {
   "cell_type": "code",
   "execution_count": 15,
   "id": "10d79008",
   "metadata": {},
   "outputs": [
    {
     "name": "stdout",
     "output_type": "stream",
     "text": [
      "Cмещенная оценки дисперсии для данной выборки = 950.11\n",
      "Несмещенная оценки дисперсии для данной выборки = 949.11\n"
     ]
    }
   ],
   "source": [
    "biased_variance = ((salary - mean)**2).sum()/len(salary)\n",
    "unbiased_variance = ((salary - mean)**2).sum()/len(salary)-1\n",
    "print(f'Cмещенная оценки дисперсии для данной выборки = {biased_variance}')\n",
    "print(f'Несмещенная оценки дисперсии для данной выборки = {unbiased_variance}')"
   ]
  },
  {
   "cell_type": "code",
   "execution_count": 17,
   "id": "8881e2d7",
   "metadata": {},
   "outputs": [
    {
     "name": "stdout",
     "output_type": "stream",
     "text": [
      "Cреднее квадратичное отклонение генеральной совокупности = 30.8239\n",
      "Cреднее квадратичное отклонение выборки = 30.8076\n"
     ]
    }
   ],
   "source": [
    "c = np.sqrt(biased_variance)\n",
    "s = np.sqrt(unbiased_variance)\n",
    "print(f'Cреднее квадратичное отклонение генеральной совокупности = {round(c, 4)}')\n",
    "print(f'Cреднее квадратичное отклонение выборки = {round(s, 4)}')"
   ]
  },
  {
   "cell_type": "markdown",
   "id": "265f5af4",
   "metadata": {},
   "source": [
    "## Задача2"
   ]
  },
  {
   "cell_type": "markdown",
   "id": "d6604b66",
   "metadata": {},
   "source": [
    "В первом ящике находится 8 мячей, из которых 5 - белые. Во втором ящике - 12 мячей, из которых 5 белых. Из первого ящика вытаскивают случайным образом два мяча, из второго - 4. Какова вероятность того, что 3 мяча белые?"
   ]
  },
  {
   "cell_type": "code",
   "execution_count": 18,
   "id": "2b4134fe",
   "metadata": {},
   "outputs": [],
   "source": [
    "from math import factorial"
   ]
  },
  {
   "cell_type": "code",
   "execution_count": 19,
   "id": "47f8aeaa",
   "metadata": {},
   "outputs": [],
   "source": [
    "def combinations (n, k):\n",
    "    return factorial(n)//(factorial(k) * factorial(n-k))"
   ]
  },
  {
   "cell_type": "code",
   "execution_count": 36,
   "id": "70936d19",
   "metadata": {},
   "outputs": [],
   "source": [
    "P_A1 = (combinations(5,1)*combinations(3,1)/combinations(8,2))*(combinations(5,2)*combinations(7,2)/combinations(12,4))"
   ]
  },
  {
   "cell_type": "code",
   "execution_count": 37,
   "id": "54b3568d",
   "metadata": {},
   "outputs": [],
   "source": [
    "P_A2 = (combinations(5,2)*combinations(3,0)/combinations(8,2))*(combinations(5,1)*combinations(7,3)/combinations(12,4))"
   ]
  },
  {
   "cell_type": "code",
   "execution_count": 38,
   "id": "69b6e60a",
   "metadata": {},
   "outputs": [],
   "source": [
    "P_A3 = (combinations(5,0)*combinations(3,2)/combinations(8,2))*(combinations(5,3)*combinations(7,1)/combinations(12,4))"
   ]
  },
  {
   "cell_type": "code",
   "execution_count": 39,
   "id": "f7e8516a",
   "metadata": {},
   "outputs": [],
   "source": [
    "P_B = P_A1 + P_A2 + P_A3"
   ]
  },
  {
   "cell_type": "code",
   "execution_count": 40,
   "id": "4a8c81d4",
   "metadata": {},
   "outputs": [
    {
     "name": "stdout",
     "output_type": "stream",
     "text": [
      "Вероятность того, что 3 мяча белые = 0.3687\n"
     ]
    }
   ],
   "source": [
    "print(f'Вероятность того, что 3 мяча белые = {round(P_B, 4)}')"
   ]
  },
  {
   "cell_type": "markdown",
   "id": "e9edddbb",
   "metadata": {},
   "source": [
    "## Задача3"
   ]
  },
  {
   "cell_type": "markdown",
   "id": "1daf2d0e",
   "metadata": {},
   "source": [
    "На соревновании по биатлону один из трех спортсменов стреляет и попадает в мишень. Вероятность попадания для первого спортсмена равна 0.9, для второго — 0.8, для третьего — 0.6. Найти вероятность того, что выстрел произведен: a). первым спортсменом б). вторым спортсменом в). третьим спортсменом."
   ]
  },
  {
   "cell_type": "code",
   "execution_count": 46,
   "id": "7dc62522",
   "metadata": {},
   "outputs": [
    {
     "name": "stdout",
     "output_type": "stream",
     "text": [
      "Общая вероятность наступленния события попадания спортсмена в мишень = 0.7667\n"
     ]
    }
   ],
   "source": [
    "P_A = round(1/3*0.9 + 1/3*0.8 + 1/3*0.6, 4)\n",
    "print(f'Общая вероятность наступленния события попадания спортсмена в мишень = {P_A}')"
   ]
  },
  {
   "cell_type": "code",
   "execution_count": 48,
   "id": "eefa4551",
   "metadata": {},
   "outputs": [
    {
     "name": "stdout",
     "output_type": "stream",
     "text": [
      "Вероятность того, что выстрел произведен первым спортсменом = 0.3913\n",
      "Вероятность того, что выстрел произведен первым спортсменом = 0.3478\n",
      "Вероятность того, что выстрел произведен первым спортсменом = 0.2609\n"
     ]
    }
   ],
   "source": [
    "P_B1_A = 1/3*0.9/P_A\n",
    "print(f'Вероятность того, что выстрел произведен первым спортсменом = {round(P_B1_A, 4)}')\n",
    "P_B2_A = 1/3*0.8/P_A\n",
    "print(f'Вероятность того, что выстрел произведен первым спортсменом = {round(P_B2_A, 4)}')\n",
    "P_B3_A = 1/3*0.6/P_A\n",
    "print(f'Вероятность того, что выстрел произведен первым спортсменом = {round(P_B3_A, 4)}')"
   ]
  },
  {
   "cell_type": "markdown",
   "id": "7b7c44b6",
   "metadata": {},
   "source": [
    "## Задача4"
   ]
  },
  {
   "cell_type": "markdown",
   "id": "eafe5dbd",
   "metadata": {},
   "source": [
    "В университет на факультеты A и B поступило равное количество студентов, а на факультет C студентов поступило столько же, сколько на A и B вместе. Вероятность того, что студент факультета A сдаст первую сессию, равна 0.8. Для студента факультета B эта вероятность равна 0.7, а для студента факультета C - 0.9. Студент сдал первую сессию. Какова вероятность, что он учится: a). на факультете A б). на факультете B в). на факультете C?"
   ]
  },
  {
   "cell_type": "markdown",
   "id": "969cc9f2",
   "metadata": {},
   "source": [
    "Пусть количетсво студентво на факультетете А = х, тогда на факультетете В = х, на факультете С = 2х.\n",
    "Вероятность наступления полной группы событий P(A)+P(B)+P(C) = 1 =>\n",
    "1/х+1/х+1/2х=1\n",
    "х=2,5\n",
    "Р(А)=Р(В)=2,5/10=0,25\n",
    "Р(С)=0,5"
   ]
  },
  {
   "cell_type": "code",
   "execution_count": 50,
   "id": "bdcb108f",
   "metadata": {},
   "outputs": [
    {
     "name": "stdout",
     "output_type": "stream",
     "text": [
      "Общая вероятность наступления события студент сдал сессию = 0.825\n"
     ]
    }
   ],
   "source": [
    "P_T = 0.25*0.8 + 0.25*0.7 + 0.5*0.9\n",
    "print(f'Общая вероятность наступления события студент сдал сессию = {P_T}')"
   ]
  },
  {
   "cell_type": "code",
   "execution_count": 51,
   "id": "94f61b3e",
   "metadata": {},
   "outputs": [
    {
     "name": "stdout",
     "output_type": "stream",
     "text": [
      "Вероятность,что студент сдавший первую сессию учится на факультете A = 0.2424\n",
      "Вероятность,что студент сдавший первую сессию учится на факультете A = 0.2121\n",
      "Вероятность,что студент сдавший первую сессию учится на факультете A = 0.5455\n"
     ]
    }
   ],
   "source": [
    "P_A_T = 0.25*0.8/P_T\n",
    "print(f'Вероятность,что студент сдавший первую сессию учится на факультете A = {round(P_A_T,4)}')\n",
    "P_B_T = 0.25*0.7/P_T\n",
    "print(f'Вероятность,что студент сдавший первую сессию учится на факультете A = {round(P_B_T,4)}')\n",
    "P_C_T = 0.5*0.9/P_T\n",
    "print(f'Вероятность,что студент сдавший первую сессию учится на факультете A = {round(P_C_T,4)}')"
   ]
  },
  {
   "cell_type": "markdown",
   "id": "a8352d17",
   "metadata": {},
   "source": [
    "## Задача5"
   ]
  },
  {
   "cell_type": "markdown",
   "id": "93c6d8d6",
   "metadata": {},
   "source": [
    "Устройство состоит из трех деталей. Для первой детали вероятность выйти из строя в первый месяц равна 0.1, для второй - 0.2, для третьей - 0.25. Какова вероятность того, что в первый месяц выйдут из строя: а). все детали б). только две детали в). хотя бы одна деталь г). от одной до двух деталей?"
   ]
  },
  {
   "cell_type": "code",
   "execution_count": 53,
   "id": "8932aff1",
   "metadata": {},
   "outputs": [
    {
     "name": "stdout",
     "output_type": "stream",
     "text": [
      "вероятность того, что в первый месяц выйдут из строя все детали = 0.005\n",
      "вероятность того, что в первый месяц выйдут из строя только две детали = 0.08\n",
      "вероятность того, что в первый месяц выйдут из строя хотя бы одна деталь = 0.46\n"
     ]
    }
   ],
   "source": [
    "P_A1 = 0.1*0.2*0.25\n",
    "print(f'вероятность того, что в первый месяц выйдут из строя все детали = {round(P_A1, 4)}')\n",
    "P_A2 = 0.1*0.2*0.75+0.1*0.8*0.25+0.9*0.2*0.25\n",
    "print(f'вероятность того, что в первый месяц выйдут из строя только две детали = {round(P_A2, 4)}')\n",
    "P_A3 = 1-(0.9*0.8*0.75)\n",
    "print(f'вероятность того, что в первый месяц выйдут из строя хотя бы одна деталь = {round(P_A3, 4)}')"
   ]
  }
 ],
 "metadata": {
  "kernelspec": {
   "display_name": "Python 3 (ipykernel)",
   "language": "python",
   "name": "python3"
  },
  "language_info": {
   "codemirror_mode": {
    "name": "ipython",
    "version": 3
   },
   "file_extension": ".py",
   "mimetype": "text/x-python",
   "name": "python",
   "nbconvert_exporter": "python",
   "pygments_lexer": "ipython3",
   "version": "3.9.7"
  }
 },
 "nbformat": 4,
 "nbformat_minor": 5
}
