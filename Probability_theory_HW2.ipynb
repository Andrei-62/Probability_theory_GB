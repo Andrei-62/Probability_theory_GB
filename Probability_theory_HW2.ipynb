{
 "cells": [
  {
   "cell_type": "markdown",
   "id": "56ac42d5",
   "metadata": {},
   "source": [
    "## Задача 1"
   ]
  },
  {
   "cell_type": "markdown",
   "id": "5ec3d213",
   "metadata": {},
   "source": [
    "Вероятность того, что стрелок попадет в мишень, выстрелив один раз, равна 0.8. Стрелок выстрелил 100 раз. Найдите вероятность того, что стрелок попадет в цель ровно 85 раз."
   ]
  },
  {
   "cell_type": "code",
   "execution_count": 1,
   "id": "f2b9707e",
   "metadata": {},
   "outputs": [],
   "source": [
    "from math import factorial"
   ]
  },
  {
   "cell_type": "code",
   "execution_count": 3,
   "id": "75e3db01",
   "metadata": {},
   "outputs": [],
   "source": [
    "def bernulli (n, k, p, q):\n",
    "    return (factorial(n)//(factorial(k) * factorial(n-k)))*(p**k)*(q**(n-k))"
   ]
  },
  {
   "cell_type": "code",
   "execution_count": 5,
   "id": "b0843cf8",
   "metadata": {},
   "outputs": [],
   "source": [
    "n = 100\n",
    "k = 85\n",
    "p = 0.8\n",
    "q = 0.2\n",
    "Pn = bernulli (n, k, p, q)"
   ]
  },
  {
   "cell_type": "code",
   "execution_count": 6,
   "id": "ea92b490",
   "metadata": {},
   "outputs": [
    {
     "name": "stdout",
     "output_type": "stream",
     "text": [
      "Вероятность того, что стрелок попадет в цель ровно 85 раз = 0.0481\n"
     ]
    }
   ],
   "source": [
    "print(f'Вероятность того, что стрелок попадет в цель ровно 85 раз = {round(Pn,4)}')"
   ]
  },
  {
   "cell_type": "markdown",
   "id": "4bedfccc",
   "metadata": {},
   "source": [
    "## Задача2"
   ]
  },
  {
   "cell_type": "markdown",
   "id": "6c3885c3",
   "metadata": {},
   "source": [
    "Вероятность того, что лампочка перегорит в течение первого дня эксплуатации, равна 0.0004. В жилом комплексе после ремонта в один день включили 5000 новых лампочек. Какова вероятность, что ни одна из них не перегорит в первый день? Какова вероятность, что перегорят ровно две?"
   ]
  },
  {
   "cell_type": "code",
   "execution_count": 14,
   "id": "1e71127c",
   "metadata": {},
   "outputs": [],
   "source": [
    "from math import exp\n",
    "def puasson(n, p, m):\n",
    "    lambd = n * p\n",
    "    return (lambd**m)*(exp(-lambd))/factorial(m)"
   ]
  },
  {
   "cell_type": "code",
   "execution_count": 16,
   "id": "39cf0ab8",
   "metadata": {},
   "outputs": [],
   "source": [
    "n = 5000\n",
    "p = 0.0004\n",
    "m = 0\n",
    "Pm = puasson(n, p, m)"
   ]
  },
  {
   "cell_type": "code",
   "execution_count": 17,
   "id": "3ba56038",
   "metadata": {},
   "outputs": [
    {
     "name": "stdout",
     "output_type": "stream",
     "text": [
      "Вероятность, что ни одна из них не перегорит в первый день = 0.1353\n"
     ]
    }
   ],
   "source": [
    "print(f'Вероятность, что ни одна из них не перегорит в первый день = {round(Pm,4)}')"
   ]
  },
  {
   "cell_type": "code",
   "execution_count": 18,
   "id": "33ac046c",
   "metadata": {},
   "outputs": [],
   "source": [
    "n = 5000\n",
    "p = 0.0004\n",
    "m = 2\n",
    "Pm = puasson(n, p, m)"
   ]
  },
  {
   "cell_type": "code",
   "execution_count": 19,
   "id": "610d73d3",
   "metadata": {},
   "outputs": [
    {
     "name": "stdout",
     "output_type": "stream",
     "text": [
      "Вероятность, что перегорят ровно две = 0.2707\n"
     ]
    }
   ],
   "source": [
    "print(f'Вероятность, что перегорят ровно две = {round(Pm,4)}')"
   ]
  },
  {
   "cell_type": "markdown",
   "id": "cb457ebc",
   "metadata": {},
   "source": [
    "## Задача3"
   ]
  },
  {
   "cell_type": "markdown",
   "id": "15cffbbe",
   "metadata": {},
   "source": [
    "Монету подбросили 144 раза. Какова вероятность, что орел выпадет ровно 70 раз?"
   ]
  },
  {
   "cell_type": "code",
   "execution_count": 20,
   "id": "4d2d833e",
   "metadata": {},
   "outputs": [],
   "source": [
    "n = 144\n",
    "k = 70\n",
    "p = 0.5\n",
    "q = 0.5\n",
    "Pn = bernulli (n, k, p, q)"
   ]
  },
  {
   "cell_type": "code",
   "execution_count": 21,
   "id": "a6d8c4f4",
   "metadata": {},
   "outputs": [
    {
     "name": "stdout",
     "output_type": "stream",
     "text": [
      "Вероятность, что орел выпадет ровно 70 раз = 0.0628\n"
     ]
    }
   ],
   "source": [
    "print(f'Вероятность, что орел выпадет ровно 70 раз = {round(Pn,4)}')"
   ]
  },
  {
   "cell_type": "markdown",
   "id": "5b7bf755",
   "metadata": {},
   "source": [
    "## Задача4"
   ]
  },
  {
   "cell_type": "markdown",
   "id": "79eb41a0",
   "metadata": {},
   "source": [
    "В первом ящике находится 10 мячей, из которых 7 - белые. Во втором ящике - 11 мячей, из которых 9 белых. Из каждого ящика вытаскивают случайным образом по два мяча. Какова вероятность того, что все мячи белые? Какова вероятность того, что ровно два мяча белые? Какова вероятность того, что хотя бы один мяч белый?"
   ]
  },
  {
   "cell_type": "code",
   "execution_count": 22,
   "id": "f3cd3e5c",
   "metadata": {},
   "outputs": [],
   "source": [
    "def combinations (n, k):\n",
    "    return factorial(n)//(factorial(k) * factorial(n-k))"
   ]
  },
  {
   "cell_type": "code",
   "execution_count": 23,
   "id": "6708a7a3",
   "metadata": {},
   "outputs": [],
   "source": [
    "P_A = round(combinations(7, 2)/combinations(10, 2), 4)"
   ]
  },
  {
   "cell_type": "code",
   "execution_count": 24,
   "id": "eda68d70",
   "metadata": {},
   "outputs": [
    {
     "name": "stdout",
     "output_type": "stream",
     "text": [
      "Вероятность вытащить 2 белых мяча из первой корзины = 0.4667\n"
     ]
    }
   ],
   "source": [
    "print(f'Вероятность вытащить 2 белых мяча из первой корзины = {P_A}')"
   ]
  },
  {
   "cell_type": "code",
   "execution_count": 25,
   "id": "bed65619",
   "metadata": {},
   "outputs": [],
   "source": [
    "P_B = round(combinations(9, 2)/combinations(11, 2), 4)"
   ]
  },
  {
   "cell_type": "code",
   "execution_count": 26,
   "id": "c5c95806",
   "metadata": {},
   "outputs": [
    {
     "name": "stdout",
     "output_type": "stream",
     "text": [
      "Вероятность вытащить 2 белых мяча из второй корзины = 0.6545\n"
     ]
    }
   ],
   "source": [
    "print(f'Вероятность вытащить 2 белых мяча из второй корзины = {P_B}')"
   ]
  },
  {
   "cell_type": "code",
   "execution_count": 27,
   "id": "90bcc5b2",
   "metadata": {},
   "outputs": [],
   "source": [
    "P_C = P_A * P_B"
   ]
  },
  {
   "cell_type": "code",
   "execution_count": 28,
   "id": "6e04a0bd",
   "metadata": {},
   "outputs": [
    {
     "name": "stdout",
     "output_type": "stream",
     "text": [
      "вероятность того, что все мячи белые = 0.3055\n"
     ]
    }
   ],
   "source": [
    "print(f'Вероятность того, что все мячи белые = {round(P_C, 4)}')"
   ]
  },
  {
   "cell_type": "code",
   "execution_count": 35,
   "id": "1b729ce4",
   "metadata": {},
   "outputs": [],
   "source": [
    "P_A1 = (combinations(7, 2)/combinations(10, 2))*(combinations(9, 0)/combinations(11, 2))\n",
    "P_A2 = (combinations(7, 0)/combinations(10, 2))*(combinations(9, 2)/combinations(11, 2))\n",
    "P_A3 = ((combinations(7, 1)*combinations(3, 1))/combinations(10, 2))*((combinations(9, 1)*combinations(2, 1))/combinations(11, 2))"
   ]
  },
  {
   "cell_type": "code",
   "execution_count": 36,
   "id": "221c86e4",
   "metadata": {},
   "outputs": [],
   "source": [
    "P_B = P_A1 + P_A2 + P_A3"
   ]
  },
  {
   "cell_type": "code",
   "execution_count": 37,
   "id": "c3c24217",
   "metadata": {},
   "outputs": [
    {
     "name": "stdout",
     "output_type": "stream",
     "text": [
      "Вероятность того, что ровно два мяча белые = 0.1758\n"
     ]
    }
   ],
   "source": [
    "print(f'Вероятность того, что ровно два мяча белые = {round(P_B, 4)}')"
   ]
  },
  {
   "cell_type": "code",
   "execution_count": 38,
   "id": "d9cbfe7b",
   "metadata": {},
   "outputs": [],
   "source": [
    "P_A = (combinations(2, 2)/combinations(10, 2))*(combinations(3, 2)/combinations(11, 2))"
   ]
  },
  {
   "cell_type": "code",
   "execution_count": 39,
   "id": "59480e9e",
   "metadata": {},
   "outputs": [],
   "source": [
    "P_B = 1 - P_A"
   ]
  },
  {
   "cell_type": "code",
   "execution_count": 40,
   "id": "50652a94",
   "metadata": {},
   "outputs": [
    {
     "name": "stdout",
     "output_type": "stream",
     "text": [
      "Вероятность того, что хотя бы один мяч белый = 0.9988\n"
     ]
    }
   ],
   "source": [
    "print(f'Вероятность того, что хотя бы один мяч белый = {round(P_B, 4)}')"
   ]
  }
 ],
 "metadata": {
  "kernelspec": {
   "display_name": "Python 3 (ipykernel)",
   "language": "python",
   "name": "python3"
  },
  "language_info": {
   "codemirror_mode": {
    "name": "ipython",
    "version": 3
   },
   "file_extension": ".py",
   "mimetype": "text/x-python",
   "name": "python",
   "nbconvert_exporter": "python",
   "pygments_lexer": "ipython3",
   "version": "3.9.7"
  }
 },
 "nbformat": 4,
 "nbformat_minor": 5
}
