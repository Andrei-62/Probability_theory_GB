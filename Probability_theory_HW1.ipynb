{
 "cells": [
  {
   "cell_type": "markdown",
   "id": "4dc2534a",
   "metadata": {},
   "source": [
    "## Задача 1"
   ]
  },
  {
   "cell_type": "markdown",
   "id": "f1fff5c5",
   "metadata": {},
   "source": [
    "Из колоды в 52 карты извлекаются случайным образом 4 карты. a) Найти вероятность того, что все карты – крести. б) Найти вероятность, что среди 4-х карт окажется хотя бы один туз."
   ]
  },
  {
   "cell_type": "code",
   "execution_count": 56,
   "id": "4bcdc46d",
   "metadata": {},
   "outputs": [],
   "source": [
    "from math import factorial"
   ]
  },
  {
   "cell_type": "code",
   "execution_count": 63,
   "id": "94ab51e4",
   "metadata": {},
   "outputs": [],
   "source": [
    "def combinations (n, k):\n",
    "    return factorial(n)//(factorial(k) * factorial(n-k))"
   ]
  },
  {
   "cell_type": "markdown",
   "id": "613e6c30",
   "metadata": {},
   "source": [
    "m - благоприятные исходы\n",
    "n - общее количество исходов\n",
    "P - вероятность"
   ]
  },
  {
   "cell_type": "code",
   "execution_count": 64,
   "id": "8ee51171",
   "metadata": {},
   "outputs": [],
   "source": [
    "m = combinations(13, 4)\n",
    "n = combinations(52, 4)\n",
    "P = m/n"
   ]
  },
  {
   "cell_type": "code",
   "execution_count": 66,
   "id": "1b887414",
   "metadata": {},
   "outputs": [
    {
     "name": "stdout",
     "output_type": "stream",
     "text": [
      "Вероятность того, что все карты – крести = 0.0026\n"
     ]
    }
   ],
   "source": [
    "print(f'Вероятность того, что все карты – крести = {round(P, 4)}')"
   ]
  },
  {
   "cell_type": "code",
   "execution_count": 97,
   "id": "7d467a03",
   "metadata": {},
   "outputs": [],
   "source": [
    "P_A1 = round(combinations(4, 1) * combinations(48, 3)/combinations(52, 4), 4)\n",
    "P_A2 = round(combinations(4, 2) * combinations(48, 2)/combinations(52, 4), 4)\n",
    "P_A3 = round(combinations(4, 3) * combinations(48, 1)/combinations(52, 4), 4)\n",
    "P_A4 = round(combinations(4, 4)/combinations(52, 4), 4)\n"
   ]
  },
  {
   "cell_type": "code",
   "execution_count": 99,
   "id": "4e5538ba",
   "metadata": {},
   "outputs": [
    {
     "name": "stdout",
     "output_type": "stream",
     "text": [
      "Вероятность, что среди 4-х карт окажется хотя бы один туз = 0.2813\n"
     ]
    }
   ],
   "source": [
    "print(f'Вероятность, что среди 4-х карт окажется хотя бы один туз = {P_C}')"
   ]
  },
  {
   "cell_type": "markdown",
   "id": "eb8fd03f",
   "metadata": {},
   "source": [
    "## Задача 2"
   ]
  },
  {
   "cell_type": "markdown",
   "id": "fc96b584",
   "metadata": {},
   "source": [
    "На входной двери подъезда установлен кодовый замок, содержащий десять кнопок с цифрами от 0 до 9. Код содержит три цифры, которые нужно нажать одновременно. Какова вероятность того, что человек, не знающий код, откроет дверь с первой попытки?"
   ]
  },
  {
   "cell_type": "code",
   "execution_count": 101,
   "id": "fe22a9e8",
   "metadata": {},
   "outputs": [],
   "source": [
    "m = 1\n",
    "n = combinations(10, 3)\n",
    "P = m/n"
   ]
  },
  {
   "cell_type": "code",
   "execution_count": 103,
   "id": "b3b8e735",
   "metadata": {},
   "outputs": [
    {
     "name": "stdout",
     "output_type": "stream",
     "text": [
      "Вероятность того, что человек, не знающий код, откроет дверь с первой попытки = 0.0083\n"
     ]
    }
   ],
   "source": [
    "print(f'Вероятность того, что человек, не знающий код, откроет дверь с первой попытки = {round(P, 4)}')"
   ]
  },
  {
   "cell_type": "markdown",
   "id": "d472644f",
   "metadata": {},
   "source": [
    "## Задача 3"
   ]
  },
  {
   "cell_type": "markdown",
   "id": "e60d19a4",
   "metadata": {},
   "source": [
    "В ящике имеется 15 деталей, из которых 9 окрашены. Рабочий случайным образом извлекает 3 детали. Какова вероятность того, что все извлеченные детали окрашены?"
   ]
  },
  {
   "cell_type": "code",
   "execution_count": 104,
   "id": "a02b85f5",
   "metadata": {},
   "outputs": [],
   "source": [
    "m = combinations(9, 3)\n",
    "n = combinations(15, 3)\n",
    "P = m/n"
   ]
  },
  {
   "cell_type": "code",
   "execution_count": 105,
   "id": "94c5bf7c",
   "metadata": {},
   "outputs": [
    {
     "name": "stdout",
     "output_type": "stream",
     "text": [
      "Вероятность того, что все извлеченные детали окрашены = 0.1846\n"
     ]
    }
   ],
   "source": [
    "print(f'Вероятность того, что все извлеченные детали окрашены = {round(P,4)}')"
   ]
  },
  {
   "cell_type": "markdown",
   "id": "e8a4808c",
   "metadata": {},
   "source": [
    "## Задача 4"
   ]
  },
  {
   "cell_type": "markdown",
   "id": "6ee22954",
   "metadata": {},
   "source": [
    "В лотерее 100 билетов. Из них 2 выигрышных. Какова вероятность того, что 2 приобретенных билета окажутся выигрышными?"
   ]
  },
  {
   "cell_type": "code",
   "execution_count": 106,
   "id": "9949d6de",
   "metadata": {},
   "outputs": [],
   "source": [
    "m = 1\n",
    "n = combinations(100, 2)\n",
    "P = m/n"
   ]
  },
  {
   "cell_type": "code",
   "execution_count": 107,
   "id": "2e4566e9",
   "metadata": {},
   "outputs": [
    {
     "name": "stdout",
     "output_type": "stream",
     "text": [
      "вероятность того, что 2 приобретенных билета окажутся выигрышными = 0.0002\n"
     ]
    }
   ],
   "source": [
    "print(f'вероятность того, что 2 приобретенных билета окажутся выигрышными = {round(P,4)}')"
   ]
  }
 ],
 "metadata": {
  "kernelspec": {
   "display_name": "Python 3 (ipykernel)",
   "language": "python",
   "name": "python3"
  },
  "language_info": {
   "codemirror_mode": {
    "name": "ipython",
    "version": 3
   },
   "file_extension": ".py",
   "mimetype": "text/x-python",
   "name": "python",
   "nbconvert_exporter": "python",
   "pygments_lexer": "ipython3",
   "version": "3.9.7"
  }
 },
 "nbformat": 4,
 "nbformat_minor": 5
}
