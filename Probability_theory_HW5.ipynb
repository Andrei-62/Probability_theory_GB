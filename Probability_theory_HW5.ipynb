{
 "cells": [
  {
   "cell_type": "markdown",
   "id": "c884193d",
   "metadata": {},
   "source": [
    "## Задача 1"
   ]
  },
  {
   "cell_type": "markdown",
   "id": "cc314eb7",
   "metadata": {},
   "source": [
    "Известно, что генеральная совокупность распределена нормально\n",
    "со средним квадратическим отклонением, равным 16.\n",
    "Найти доверительный интервал для оценки математического ожидания a с надежностью 0.95,\n",
    "если выборочная средняя M = 80, а объем выборки n = 256."
   ]
  },
  {
   "cell_type": "markdown",
   "id": "f5ec6d6d",
   "metadata": {},
   "source": [
    "Так как известно среднее квадратичное отклоненеие, о используем Z-критерий"
   ]
  },
  {
   "cell_type": "code",
   "execution_count": 6,
   "id": "11f80e6a",
   "metadata": {},
   "outputs": [
    {
     "name": "stdout",
     "output_type": "stream",
     "text": [
      "Доверительный интервал для оценки математического ожидания = [78.04; 81.96]\n"
     ]
    }
   ],
   "source": [
    "import numpy as np\n",
    "left = 80-1.96*16/np.sqrt(256)\n",
    "right = 80+1.96*16/np.sqrt(256)\n",
    "print(f'Доверительный интервал для оценки математического ожидания = [{left}; {right}]')"
   ]
  },
  {
   "cell_type": "markdown",
   "id": "dc237bfe",
   "metadata": {},
   "source": [
    "## Задача 2"
   ]
  },
  {
   "cell_type": "markdown",
   "id": "fd2351d1",
   "metadata": {},
   "source": [
    "В результате 10 независимых измерений некоторой величины X, выполненных с одинаковой точностью,\n",
    "получены опытные данные:\n",
    "6.9, 6.1, 6.2, 6.8, 7.5, 6.3, 6.4, 6.9, 6.7, 6.1\n",
    "Предполагая, что результаты измерений подчинены нормальному закону распределения вероятностей,\n",
    "оценить истинное значение величины X при помощи доверительного интервала, покрывающего это\n",
    "значение с доверительной вероятностью 0,95."
   ]
  },
  {
   "cell_type": "code",
   "execution_count": 10,
   "id": "2c29bbca",
   "metadata": {},
   "outputs": [],
   "source": [
    "n = 10\n",
    "X_result = np.array([6.9, 6.1, 6.2, 6.8, 7.5, 6.3, 6.4, 6.9, 6.7, 6.1])"
   ]
  },
  {
   "cell_type": "code",
   "execution_count": 12,
   "id": "81ab1350",
   "metadata": {},
   "outputs": [],
   "source": [
    "X = round(X_result.mean(), 2)"
   ]
  },
  {
   "cell_type": "code",
   "execution_count": 13,
   "id": "6c738d4b",
   "metadata": {},
   "outputs": [],
   "source": [
    "si = np.std(X_result, ddof=1)"
   ]
  },
  {
   "cell_type": "code",
   "execution_count": 14,
   "id": "3e7f2547",
   "metadata": {},
   "outputs": [],
   "source": [
    "import scipy.stats as stats\n",
    "t = stats.t.ppf(0.05, len(X_result))"
   ]
  },
  {
   "cell_type": "code",
   "execution_count": 18,
   "id": "432847a2",
   "metadata": {},
   "outputs": [
    {
     "name": "stdout",
     "output_type": "stream",
     "text": [
      "Доверительнеый интервал  = [6.85; 6.33]\n"
     ]
    }
   ],
   "source": [
    "left = X-t*si/np.sqrt(10)\n",
    "right = X+t*si/np.sqrt(10)\n",
    "print(f'Доверительнеый интервал  = [{round(left, 2)}; {round(right, 2)}]')"
   ]
  },
  {
   "cell_type": "markdown",
   "id": "a8488230",
   "metadata": {},
   "source": [
    "## Задача 3"
   ]
  },
  {
   "cell_type": "markdown",
   "id": "278c7add",
   "metadata": {},
   "source": [
    "Утверждается, что шарики для подшипников, изготовленные автоматическим станком, имеют средний диаметр 17 мм.\n",
    "Используя односторонний критерий с α=0,05, проверить эту гипотезу, если в выборке из n=100 шариков средний диаметр\n",
    "оказался равным 17.5 мм, а дисперсия известна и равна 4 мм."
   ]
  },
  {
   "cell_type": "markdown",
   "id": "1bd996e4",
   "metadata": {},
   "source": [
    "1. H0: среднее выборки = среднему генеральной совокупности = 17\n",
    "   Н1: среднее выборки > среднего генеральной совокупности\n",
    "2. α=0,05\n",
    "3. Учитывая, что известна сигма используем Z-кпитерий"
   ]
  },
  {
   "cell_type": "code",
   "execution_count": 21,
   "id": "a284bc70",
   "metadata": {},
   "outputs": [
    {
     "data": {
      "text/plain": [
       "2.5"
      ]
     },
     "execution_count": 21,
     "metadata": {},
     "output_type": "execute_result"
    }
   ],
   "source": [
    "Zn = (17.5-17)/(2/10)\n",
    "Zn"
   ]
  },
  {
   "cell_type": "markdown",
   "id": "62fc65b7",
   "metadata": {},
   "source": [
    "Находим табличное значение Z-критерия"
   ]
  },
  {
   "cell_type": "code",
   "execution_count": 27,
   "id": "cff38269",
   "metadata": {},
   "outputs": [
    {
     "data": {
      "text/plain": [
       "1.6448536269514722"
      ]
     },
     "execution_count": 27,
     "metadata": {},
     "output_type": "execute_result"
    }
   ],
   "source": [
    "Zc = stats.norm.ppf(0.95)\n",
    "Zc"
   ]
  },
  {
   "cell_type": "markdown",
   "id": "346bf6b9",
   "metadata": {},
   "source": [
    "Ответ: Отвергаем нулевую гипотезу"
   ]
  },
  {
   "cell_type": "markdown",
   "id": "24b7889b",
   "metadata": {},
   "source": [
    "## Задача 4"
   ]
  },
  {
   "cell_type": "markdown",
   "id": "7bbab64c",
   "metadata": {},
   "source": [
    "Продавец утверждает, что средний вес пачки печенья составляет 200 г.\n",
    "Из партии извлечена выборка из 10 пачек. Вес каждой пачки составляет:\n",
    "202, 203, 199, 197, 195, 201, 200, 204, 194, 190.\n",
    "Известно, что их веса распределены нормально.\n",
    "Верно ли утверждение продавца, если учитывать, что доверительная вероятность равна 99%?"
   ]
  },
  {
   "cell_type": "markdown",
   "id": "0b2a03d8",
   "metadata": {},
   "source": [
    "1. Н0: средний вес выборки = среднему весу генеральной совокупности = 200\n",
    "2. Н1: средний вес выборки != среднему весу генеральной совокупности\n",
    "3. Используем t-критерий"
   ]
  },
  {
   "cell_type": "code",
   "execution_count": 28,
   "id": "aa5c4522",
   "metadata": {},
   "outputs": [],
   "source": [
    "X_res = np.array([202, 203, 199, 197, 195, 201, 200, 204, 194, 190])"
   ]
  },
  {
   "cell_type": "code",
   "execution_count": 29,
   "id": "da1aaa5a",
   "metadata": {},
   "outputs": [],
   "source": [
    "X = X_res.mean()"
   ]
  },
  {
   "cell_type": "code",
   "execution_count": 30,
   "id": "c50b4149",
   "metadata": {},
   "outputs": [],
   "source": [
    "si = np.std(X_res, ddof=1)"
   ]
  },
  {
   "cell_type": "code",
   "execution_count": 35,
   "id": "f13c51cf",
   "metadata": {},
   "outputs": [
    {
     "data": {
      "text/plain": [
       "-1.0651074037450896"
      ]
     },
     "execution_count": 35,
     "metadata": {},
     "output_type": "execute_result"
    }
   ],
   "source": [
    "tn = (X-200)/(si/np.sqrt(10))\n",
    "tn"
   ]
  },
  {
   "cell_type": "code",
   "execution_count": 34,
   "id": "b3bd2993",
   "metadata": {},
   "outputs": [
    {
     "data": {
      "text/plain": [
       "-2.7637694574478893"
      ]
     },
     "execution_count": 34,
     "metadata": {},
     "output_type": "execute_result"
    }
   ],
   "source": [
    "tc = stats.t.ppf(0.01, len(X_res))\n",
    "tc"
   ]
  },
  {
   "cell_type": "markdown",
   "id": "d9a9ddab",
   "metadata": {},
   "source": [
    "Ответ: принимаем нулевое утверждение"
   ]
  }
 ],
 "metadata": {
  "kernelspec": {
   "display_name": "Python 3 (ipykernel)",
   "language": "python",
   "name": "python3"
  },
  "language_info": {
   "codemirror_mode": {
    "name": "ipython",
    "version": 3
   },
   "file_extension": ".py",
   "mimetype": "text/x-python",
   "name": "python",
   "nbconvert_exporter": "python",
   "pygments_lexer": "ipython3",
   "version": "3.9.7"
  }
 },
 "nbformat": 4,
 "nbformat_minor": 5
}
